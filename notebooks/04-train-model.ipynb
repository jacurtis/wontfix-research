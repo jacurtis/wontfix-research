{
 "cells": [
  {
   "metadata": {
    "ExecuteTime": {
     "end_time": "2025-03-03T04:35:06.035409Z",
     "start_time": "2025-03-03T04:34:34.919429Z"
    }
   },
   "cell_type": "code",
   "source": "!pip install transformers accelerate evaluate datasets peft -q",
   "id": "c4111c2da0de80c",
   "outputs": [
    {
     "name": "stdout",
     "output_type": "stream",
     "text": [
      "\r\n",
      "\u001B[1m[\u001B[0m\u001B[34;49mnotice\u001B[0m\u001B[1;39;49m]\u001B[0m\u001B[39;49m A new release of pip is available: \u001B[0m\u001B[31;49m24.0\u001B[0m\u001B[39;49m -> \u001B[0m\u001B[32;49m25.0.1\u001B[0m\r\n",
      "\u001B[1m[\u001B[0m\u001B[34;49mnotice\u001B[0m\u001B[1;39;49m]\u001B[0m\u001B[39;49m To update, run: \u001B[0m\u001B[32;49mpip install --upgrade pip\u001B[0m\r\n"
     ]
    }
   ],
   "execution_count": 1
  },
  {
   "metadata": {},
   "cell_type": "code",
   "outputs": [],
   "execution_count": null,
   "source": [
    "from peft import LoraConfig, get_peft_model\n",
    "from transformers import LlamaForCausalLM, LlamaTokenizer, Trainer, TrainingArguments\n",
    "\n",
    "# Load pre-trained LLaMA model\n",
    "model = LlamaForCausalLM.from_pretrained(\"meta-llama/Llama-2-7b\")\n",
    "tokenizer = LlamaTokenizer.from_pretrained(\"meta-llama/Llama-2-7b\")\n",
    "\n",
    "# Configure LoRa\n",
    "config = LoraConfig(\n",
    "    r=8,  # Rank of the low-rank matrices\n",
    "    lora_alpha=16,\n",
    "    lora_dropout=0.05,\n",
    "    target_modules=[\"q_proj\", \"v_proj\"]  # Apply LoRa to specific layers\n",
    ")\n",
    "\n",
    "# Apply LoRa to the model\n",
    "model = get_peft_model(model, config)\n",
    "\n",
    "# Set up training\n",
    "training_args = TrainingArguments(\n",
    "    output_dir=\"./fine-tuned-llm\",\n",
    "    per_device_train_batch_size=4,\n",
    "    num_train_epochs=3\n",
    ")\n",
    "\n",
    "trainer = Trainer(model=model, train_dataset=train_dataset, args=training_args)\n",
    "\n",
    "# Fine-tune the model\n",
    "trainer.train()\n"
   ],
   "id": "a96cc9d6572b1fd0"
  }
 ],
 "metadata": {
  "kernelspec": {
   "display_name": "Python 3",
   "language": "python",
   "name": "python3"
  },
  "language_info": {
   "codemirror_mode": {
    "name": "ipython",
    "version": 2
   },
   "file_extension": ".py",
   "mimetype": "text/x-python",
   "name": "python",
   "nbconvert_exporter": "python",
   "pygments_lexer": "ipython2",
   "version": "2.7.6"
  }
 },
 "nbformat": 4,
 "nbformat_minor": 5
}
