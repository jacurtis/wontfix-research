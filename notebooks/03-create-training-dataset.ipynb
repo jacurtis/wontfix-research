{
 "cells": [
  {
   "metadata": {},
   "cell_type": "markdown",
   "source": [
    "## Combine and Shuffle CSV files\n",
    "In order to prepare the dataset for trainging, we need a combined file that contains both wontfix and non-wontfix issues evenly.\n",
    "\n",
    "This makes sure that the created model isn't overly biased in one way or another."
   ],
   "id": "62f1f62391e29029"
  },
  {
   "metadata": {
    "ExecuteTime": {
     "end_time": "2025-03-06T02:52:40.641369Z",
     "start_time": "2025-03-06T02:52:31.784300Z"
    }
   },
   "cell_type": "code",
   "source": [
    "import pandas as pd\n",
    "\n",
    "ISSUE_LIST_HEADERS = [\n",
    "        \"id\", \"title\", \"number\", \"repoId\", \"repoName\", \"labels\", \"state\",\n",
    "        \"comments\", \"createdAt\", \"updatedAt\", \"closedAt\", \"body\", \"user\", \"userId\"\n",
    "    ]\n",
    "\n",
    "# File paths\n",
    "file1 = \"../data/no-wontfix/issues.csv\"\n",
    "file2 = \"../data/issues.csv\"\n",
    "output_file = \"../data/shuffled_issues.csv\"\n",
    "\n",
    "# Read CSV files\n",
    "df1 = pd.read_csv(file1)\n",
    "df2 = pd.read_csv(file2)\n",
    "\n",
    "# Combine DataFrames\n",
    "combined_df = pd.concat([df1, df2], ignore_index=True)\n",
    "\n",
    "# Shuffle the DataFrame\n",
    "shuffled_df = combined_df.sample(frac=1, random_state=42).reset_index(drop=True)\n",
    "\n",
    "# Save to a new CSV file\n",
    "shuffled_df.to_csv(output_file, index=False, header=ISSUE_LIST_HEADERS)\n",
    "\n",
    "print(f\"Combined and shuffled CSV saved to {output_file}\")\n"
   ],
   "id": "ba2660a8defaef41",
   "outputs": [
    {
     "name": "stdout",
     "output_type": "stream",
     "text": [
      "Combined and shuffled CSV saved to ../data/shuffled_issues.csv\n"
     ]
    }
   ],
   "execution_count": 4
  },
  {
   "metadata": {},
   "cell_type": "markdown",
   "source": [
    "## Create Dataset Format\n",
    "\n",
    "This creates a dataset for model training"
   ],
   "id": "9cd949cfa31c6a29"
  },
  {
   "cell_type": "code",
   "id": "initial_id",
   "metadata": {
    "collapsed": true,
    "ExecuteTime": {
     "end_time": "2025-03-06T05:17:41.251790Z",
     "start_time": "2025-03-06T05:17:41.246641Z"
    }
   },
   "source": [
    "import json\n",
    "import pandas as pd\n",
    "\n",
    "# Define a function to process the CSV and convert it to JSONL format\n",
    "def convert_csv_to_jsonl(csv_filepath, jsonl_filepath):\n",
    "    df = pd.read_csv(csv_filepath)\n",
    "    \n",
    "    # Convert the 'labels' column to string\n",
    "    df['body'] = df['body'].astype(str)\n",
    "    df['title'] = df['title'].astype(str)\n",
    "\n",
    "    # Process each row and structure it into a dictionary\n",
    "    jsonl_data = []\n",
    "    for _, row in df.iterrows():\n",
    "        issue_data = {\n",
    "            \"title\": row[\"title\"],\n",
    "            \"body\": row[\"body\"],\n",
    "            # \"number\": row[\"number\"],\n",
    "            # \"state\": row[\"state\"],\n",
    "            # \"labels\": json.loads(row[\"labels\"].replace(\"'\", '\"')),  # Convert string list to actual list\n",
    "            # \"state\": row[\"state\"],\n",
    "            # \"repo\": row[\"repoName\"],\n",
    "            # \"comments\": row[\"comments\"],\n",
    "            # \"created_at\": row[\"createdAt\"],\n",
    "            # \"updated_at\": row[\"updatedAt\"],\n",
    "            # \"closed_at\": row[\"closedAt\"],\n",
    "            \"target\": \"WONTFIX\" if \"wontfix\" in row[\"labels\"].lower() else \"FIXED\"\n",
    "        }\n",
    "        jsonl_data.append(issue_data)\n",
    "\n",
    "    # Save to JSONL file\n",
    "    with open(jsonl_filepath, \"w\") as jsonl_file:\n",
    "        for entry in jsonl_data:\n",
    "            jsonl_file.write(json.dumps(entry) + \"\\n\")\n"
   ],
   "outputs": [],
   "execution_count": 17
  },
  {
   "metadata": {
    "ExecuteTime": {
     "end_time": "2025-03-06T05:17:54.706398Z",
     "start_time": "2025-03-06T05:17:45.144626Z"
    }
   },
   "cell_type": "code",
   "source": [
    "# Define output file path\n",
    "input_file_path = \"../data/shuffled_issues.csv\"\n",
    "output_file_path = \"../data/training-dataset/pulls.jsonl\"\n",
    "\n",
    "# Convert and save the JSONL file\n",
    "convert_csv_to_jsonl(input_file_path, output_file_path)\n",
    "\n",
    "# Return the path of the created JSONL file\n",
    "output_file_path"
   ],
   "id": "b33cdd75316b463d",
   "outputs": [
    {
     "data": {
      "text/plain": [
       "'../data/training-dataset/pulls.jsonl'"
      ]
     },
     "execution_count": 18,
     "metadata": {},
     "output_type": "execute_result"
    }
   ],
   "execution_count": 18
  }
 ],
 "metadata": {
  "kernelspec": {
   "display_name": "Python 3",
   "language": "python",
   "name": "python3"
  },
  "language_info": {
   "codemirror_mode": {
    "name": "ipython",
    "version": 2
   },
   "file_extension": ".py",
   "mimetype": "text/x-python",
   "name": "python",
   "nbconvert_exporter": "python",
   "pygments_lexer": "ipython2",
   "version": "2.7.6"
  }
 },
 "nbformat": 4,
 "nbformat_minor": 5
}
