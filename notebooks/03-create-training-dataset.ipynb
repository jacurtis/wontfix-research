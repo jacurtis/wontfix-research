{
 "cells": [
  {
   "cell_type": "code",
   "id": "initial_id",
   "metadata": {
    "collapsed": true,
    "ExecuteTime": {
     "end_time": "2025-03-03T17:04:22.833102Z",
     "start_time": "2025-03-03T17:04:19.427997Z"
    }
   },
   "source": [
    "import json\n",
    "import pandas as pd\n",
    "\n",
    "# Define a function to process the CSV and convert it to JSONL format\n",
    "def convert_csv_to_jsonl(csv_filepath, jsonl_filepath):\n",
    "    df = pd.read_csv(csv_filepath)\n",
    "    \n",
    "    # Process each row and structure it into a dictionary\n",
    "    jsonl_data = []\n",
    "    for _, row in df.iterrows():\n",
    "        issue_data = {\n",
    "            \"title\": row[\"title\"],\n",
    "            \"body\": row[\"body\"],\n",
    "            \"labels\": json.loads(row[\"labels\"].replace(\"'\", '\"')),  # Convert string list to actual list\n",
    "            # \"state\": row[\"state\"],\n",
    "            # \"repo\": row[\"repoName\"],\n",
    "            # \"comments\": row[\"comments\"],\n",
    "            # \"created_at\": row[\"createdAt\"],\n",
    "            # \"updated_at\": row[\"updatedAt\"],\n",
    "            # \"closed_at\": row[\"closedAt\"],\n",
    "            \"target\": \"WONTFIX\" if \"wontfix\" in row[\"labels\"].lower() else \"FIXED\"\n",
    "        }\n",
    "        jsonl_data.append(issue_data)\n",
    "\n",
    "    # Save to JSONL file\n",
    "    with open(jsonl_filepath, \"w\") as jsonl_file:\n",
    "        for entry in jsonl_data:\n",
    "            jsonl_file.write(json.dumps(entry) + \"\\n\")\n"
   ],
   "outputs": [],
   "execution_count": 1
  },
  {
   "metadata": {
    "ExecuteTime": {
     "end_time": "2025-03-03T17:07:29.915845Z",
     "start_time": "2025-03-03T17:07:29.775681Z"
    }
   },
   "cell_type": "code",
   "source": [
    "# Define output file path\n",
    "output_file_path = \"../data/pulls-trainingset.csv\"\n",
    "input_file_path = \"../data/pulls.csv\"\n",
    "\n",
    "# Convert and save the JSONL file\n",
    "convert_csv_to_jsonl(input_file_path, output_file_path)\n",
    "\n",
    "# Return the path of the created JSONL file\n",
    "output_file_path"
   ],
   "id": "b33cdd75316b463d",
   "outputs": [
    {
     "data": {
      "text/plain": [
       "'../data/pulls-trainingset.csv'"
      ]
     },
     "execution_count": 2,
     "metadata": {},
     "output_type": "execute_result"
    }
   ],
   "execution_count": 2
  }
 ],
 "metadata": {
  "kernelspec": {
   "display_name": "Python 3",
   "language": "python",
   "name": "python3"
  },
  "language_info": {
   "codemirror_mode": {
    "name": "ipython",
    "version": 2
   },
   "file_extension": ".py",
   "mimetype": "text/x-python",
   "name": "python",
   "nbconvert_exporter": "python",
   "pygments_lexer": "ipython2",
   "version": "2.7.6"
  }
 },
 "nbformat": 4,
 "nbformat_minor": 5
}
