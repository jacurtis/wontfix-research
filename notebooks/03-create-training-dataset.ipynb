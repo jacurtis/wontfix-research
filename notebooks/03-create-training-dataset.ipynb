{
 "cells": [
  {
   "metadata": {},
   "cell_type": "markdown",
   "source": [
    "## Combine and Shuffle CSV files\n",
    "In order to prepare the dataset for trainging, we need a combined file that contains both wontfix and non-wontfix issues evenly.\n",
    "\n",
    "This makes sure that the created model isn't overly biased in one way or another."
   ],
   "id": "62f1f62391e29029"
  },
  {
   "metadata": {
    "ExecuteTime": {
     "end_time": "2025-03-10T03:00:15.637650Z",
     "start_time": "2025-03-10T03:00:06.333776Z"
    }
   },
   "cell_type": "code",
   "source": [
    "import pandas as pd\n",
    "\n",
    "ISSUE_LIST_HEADERS = [\n",
    "        \"id\", \"title\", \"number\", \"repoId\", \"repoName\", \"labels\", \"state\",\n",
    "        \"comments\", \"createdAt\", \"updatedAt\", \"closedAt\", \"body\", \"user\", \"userId\"\n",
    "    ]\n",
    "\n",
    "# File paths\n",
    "file1 = \"../data/no-wontfix/issues.csv\"\n",
    "file2 = \"../data/issues.csv\"\n",
    "output_file = \"../data/shuffled_issues.csv\"\n",
    "\n",
    "# Read CSV files\n",
    "df1 = pd.read_csv(file1)\n",
    "df2 = pd.read_csv(file2)\n",
    "\n",
    "# Combine DataFrames\n",
    "combined_df = pd.concat([df1, df2], ignore_index=True)\n",
    "\n",
    "# Shuffle the DataFrame\n",
    "shuffled_df = combined_df.sample(frac=1, random_state=42).reset_index(drop=True)\n",
    "\n",
    "# Save to a new CSV file\n",
    "shuffled_df.to_csv(output_file, index=False, header=ISSUE_LIST_HEADERS)\n",
    "\n",
    "print(f\"Combined and shuffled CSV saved to {output_file}\")\n"
   ],
   "id": "ba2660a8defaef41",
   "outputs": [
    {
     "name": "stdout",
     "output_type": "stream",
     "text": [
      "Combined and shuffled CSV saved to ../data/shuffled_issues.csv\n"
     ]
    }
   ],
   "execution_count": 1
  },
  {
   "metadata": {},
   "cell_type": "markdown",
   "source": [
    "## Create Dataset Format\n",
    "\n",
    "This creates a dataset for model training"
   ],
   "id": "9cd949cfa31c6a29"
  },
  {
   "cell_type": "code",
   "id": "initial_id",
   "metadata": {
    "collapsed": true,
    "ExecuteTime": {
     "end_time": "2025-03-10T03:00:32.423213Z",
     "start_time": "2025-03-10T03:00:32.419716Z"
    }
   },
   "source": [
    "import json\n",
    "import pandas as pd\n",
    "\n",
    "# Define a function to process the CSV and convert it to JSONL format\n",
    "def convert_csv_to_jsonl(csv_filepath, jsonl_filepath):\n",
    "    df = pd.read_csv(csv_filepath)\n",
    "    \n",
    "    # Convert the 'labels' column to string\n",
    "    df['body'] = df['body'].astype(str)\n",
    "    df['title'] = df['title'].astype(str)\n",
    "\n",
    "    # Process each row and structure it into a dictionary\n",
    "    jsonl_data = []\n",
    "    for _, row in df.iterrows():\n",
    "        issue_data = {\n",
    "            \"title\": row[\"title\"],\n",
    "            \"body\": row[\"body\"],\n",
    "            # \"number\": row[\"number\"],\n",
    "            # \"state\": row[\"state\"],\n",
    "            # \"labels\": json.loads(row[\"labels\"].replace(\"'\", '\"')),  # Convert string list to actual list\n",
    "            # \"state\": row[\"state\"],\n",
    "            # \"repo\": row[\"repoName\"],\n",
    "            # \"comments\": row[\"comments\"],\n",
    "            # \"created_at\": row[\"createdAt\"],\n",
    "            # \"updated_at\": row[\"updatedAt\"],\n",
    "            # \"closed_at\": row[\"closedAt\"],\n",
    "            \"target\": \"WONTFIX\" if \"wontfix\" in row[\"labels\"].lower() else \"FIXED\"\n",
    "        }\n",
    "        jsonl_data.append(issue_data)\n",
    "\n",
    "    # Save to JSONL file\n",
    "    with open(jsonl_filepath, \"w\") as jsonl_file:\n",
    "        for entry in jsonl_data:\n",
    "            jsonl_file.write(json.dumps(entry) + \"\\n\")\n"
   ],
   "outputs": [],
   "execution_count": 2
  },
  {
   "metadata": {
    "ExecuteTime": {
     "end_time": "2025-03-10T03:01:32.228059Z",
     "start_time": "2025-03-10T03:01:22.622553Z"
    }
   },
   "cell_type": "code",
   "source": [
    "# Define output file path\n",
    "conversion_input_file = \"../data/shuffled_issues.csv\"\n",
    "conversion_output_file = \"../data/training-dataset/issues/all.jsonl\"\n",
    "\n",
    "# Convert and save the JSONL file\n",
    "convert_csv_to_jsonl(conversion_input_file, conversion_output_file)\n",
    "\n",
    "# Return the path of the created JSONL file\n",
    "conversion_output_file"
   ],
   "id": "b33cdd75316b463d",
   "outputs": [
    {
     "data": {
      "text/plain": [
       "'../data/training-dataset/issues/all.jsonl'"
      ]
     },
     "execution_count": 4,
     "metadata": {},
     "output_type": "execute_result"
    }
   ],
   "execution_count": 4
  },
  {
   "metadata": {},
   "cell_type": "markdown",
   "source": [
    "## Split the Dataset\n",
    "This will split the dataset into training and testing datasets. By default 80% of the data will be used for training and 20% for testing."
   ],
   "id": "56a2858f952be7ea"
  },
  {
   "metadata": {
    "ExecuteTime": {
     "end_time": "2025-03-10T03:07:26.551068Z",
     "start_time": "2025-03-10T03:07:25.481503Z"
    }
   },
   "cell_type": "code",
   "source": [
    "import json\n",
    "import random\n",
    "\n",
    "# File paths\n",
    "datasetsplit_input = '../data/training-dataset/issues/all.jsonl'\n",
    "datasetsplit_training_output = '../data/training-dataset/issues/training.jsonl'\n",
    "datasetsplit_testing_output = '../data/training-dataset/issues/testing.jsonl'\n",
    "\n",
    "# Read the input JSONL file\n",
    "with open(datasetsplit_input, 'r') as f:\n",
    "    lines = f.readlines()\n",
    "\n",
    "# Shuffle the data\n",
    "random.shuffle(lines)\n",
    "\n",
    "# Calculate the split index\n",
    "split_index = int(0.8 * len(lines))\n",
    "\n",
    "# Split the data\n",
    "training_lines = lines[:split_index]\n",
    "testing_lines = lines[split_index:]\n",
    "\n",
    "# Write the train data to train.jsonl\n",
    "with open(datasetsplit_training_output, 'w') as f:\n",
    "    for line in training_lines:\n",
    "        f.write(line)\n",
    "\n",
    "# Write the control data to control.jsonl\n",
    "with open(datasetsplit_testing_output, 'w') as f:\n",
    "    for line in testing_lines:\n",
    "        f.write(line)\n",
    "\n",
    "print(f\"Data split into {datasetsplit_training_output} and {datasetsplit_testing_output}\")\n",
    "print(f\"Training data: {len(training_lines)} samples\")\n",
    "print(f\"Testing data: {len(testing_lines)} samples\")\n"
   ],
   "id": "c35b8c726daa113a",
   "outputs": [
    {
     "name": "stdout",
     "output_type": "stream",
     "text": [
      "Data split into ../data/training-dataset/issues/training.jsonl and ../data/training-dataset/issues/testing.jsonl\n",
      "Training data: 253600 samples\n",
      "Testing data: 63400 samples\n"
     ]
    }
   ],
   "execution_count": 7
  },
  {
   "metadata": {
    "ExecuteTime": {
     "end_time": "2025-03-10T03:14:58.363691Z",
     "start_time": "2025-03-10T03:14:57.855748Z"
    }
   },
   "cell_type": "code",
   "source": [
    "import random\n",
    "\n",
    "reduce_file_input = '../data/training-dataset/issues/training.jsonl'\n",
    "reduce_file_output = '../data/training-dataset/issues/reduced.jsonl'\n",
    "output_line_total = 100\n",
    "\n",
    "with open(reduce_file_input, 'r') as f:\n",
    "    lines = f.readlines()\n",
    "\n",
    "# Shuffle the data\n",
    "random.shuffle(lines)\n",
    "\n",
    "reduced_lines = lines[:output_line_total]\n",
    "\n",
    "# Write the train data to train.jsonl\n",
    "with open(reduce_file_output, 'w') as f:\n",
    "    for line in reduced_lines:\n",
    "        f.write(line)\n",
    "\n",
    "print(f\"Data reduced to {reduce_file_output}\")"
   ],
   "id": "fab3f1b922e659a5",
   "outputs": [
    {
     "name": "stdout",
     "output_type": "stream",
     "text": [
      "Data reduced to ../data/training-dataset/issues/reduced.jsonl\n"
     ]
    }
   ],
   "execution_count": 8
  }
 ],
 "metadata": {
  "kernelspec": {
   "display_name": "Python 3",
   "language": "python",
   "name": "python3"
  },
  "language_info": {
   "codemirror_mode": {
    "name": "ipython",
    "version": 2
   },
   "file_extension": ".py",
   "mimetype": "text/x-python",
   "name": "python",
   "nbconvert_exporter": "python",
   "pygments_lexer": "ipython2",
   "version": "2.7.6"
  }
 },
 "nbformat": 4,
 "nbformat_minor": 5
}
