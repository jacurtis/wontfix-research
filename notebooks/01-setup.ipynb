{
 "cells": [
  {
   "cell_type": "markdown",
   "source": [
    "# Setup Jupyter Notebooks\n",
    "\n",
    "This is a guide on setting up your notebook fro this research project"
   ],
   "metadata": {
    "collapsed": false
   },
   "id": "19bef67bb3315ae5"
  },
  {
   "cell_type": "code",
   "outputs": [
    {
     "name": "stdout",
     "output_type": "stream",
     "text": [
      "Requirement already satisfied: numpy in /Users/jacurtis/Developer/wontfix/.venv/lib/python3.10/site-packages (1.26.4)\r\n",
      "Requirement already satisfied: pandas in /Users/jacurtis/Developer/wontfix/.venv/lib/python3.10/site-packages (2.2.1)\r\n",
      "Requirement already satisfied: requests in /Users/jacurtis/Developer/wontfix/.venv/lib/python3.10/site-packages (2.31.0)\r\n",
      "Requirement already satisfied: ratelimit in /Users/jacurtis/Developer/wontfix/.venv/lib/python3.10/site-packages (2.2.1)\r\n",
      "Requirement already satisfied: python-dateutil>=2.8.2 in /Users/jacurtis/Developer/wontfix/.venv/lib/python3.10/site-packages (from pandas) (2.9.0.post0)\r\n",
      "Requirement already satisfied: pytz>=2020.1 in /Users/jacurtis/Developer/wontfix/.venv/lib/python3.10/site-packages (from pandas) (2024.1)\r\n",
      "Requirement already satisfied: tzdata>=2022.7 in /Users/jacurtis/Developer/wontfix/.venv/lib/python3.10/site-packages (from pandas) (2024.1)\r\n",
      "Requirement already satisfied: charset-normalizer<4,>=2 in /Users/jacurtis/Developer/wontfix/.venv/lib/python3.10/site-packages (from requests) (3.3.2)\r\n",
      "Requirement already satisfied: idna<4,>=2.5 in /Users/jacurtis/Developer/wontfix/.venv/lib/python3.10/site-packages (from requests) (3.6)\r\n",
      "Requirement already satisfied: urllib3<3,>=1.21.1 in /Users/jacurtis/Developer/wontfix/.venv/lib/python3.10/site-packages (from requests) (2.2.1)\r\n",
      "Requirement already satisfied: certifi>=2017.4.17 in /Users/jacurtis/Developer/wontfix/.venv/lib/python3.10/site-packages (from requests) (2024.2.2)\r\n",
      "Requirement already satisfied: six>=1.5 in /Users/jacurtis/Developer/wontfix/.venv/lib/python3.10/site-packages (from python-dateutil>=2.8.2->pandas) (1.16.0)\r\n",
      "\r\n",
      "\u001B[1m[\u001B[0m\u001B[34;49mnotice\u001B[0m\u001B[1;39;49m]\u001B[0m\u001B[39;49m A new release of pip is available: \u001B[0m\u001B[31;49m23.1.2\u001B[0m\u001B[39;49m -> \u001B[0m\u001B[32;49m24.0\u001B[0m\r\n",
      "\u001B[1m[\u001B[0m\u001B[34;49mnotice\u001B[0m\u001B[1;39;49m]\u001B[0m\u001B[39;49m To update, run: \u001B[0m\u001B[32;49mpip install --upgrade pip\u001B[0m\r\n"
     ]
    }
   ],
   "source": [
    "# Use only to install required dependencies into your Juputer kernal (if you don't already have them)\n",
    "import sys\n",
    "!{sys.executable} -m pip install numpy pandas requests ratelimit"
   ],
   "metadata": {
    "collapsed": true,
    "ExecuteTime": {
     "end_time": "2024-03-24T21:27:42.782922Z",
     "start_time": "2024-03-24T21:27:41.971615Z"
    }
   },
   "id": "initial_id",
   "execution_count": 1
  }
 ],
 "metadata": {
  "kernelspec": {
   "display_name": "Python 3",
   "language": "python",
   "name": "python3"
  },
  "language_info": {
   "codemirror_mode": {
    "name": "ipython",
    "version": 2
   },
   "file_extension": ".py",
   "mimetype": "text/x-python",
   "name": "python",
   "nbconvert_exporter": "python",
   "pygments_lexer": "ipython2",
   "version": "2.7.6"
  }
 },
 "nbformat": 4,
 "nbformat_minor": 5
}
